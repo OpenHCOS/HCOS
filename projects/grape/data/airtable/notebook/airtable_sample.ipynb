{
 "cells": [
  {
   "cell_type": "code",
   "execution_count": 1,
   "metadata": {
    "collapsed": true
   },
   "outputs": [],
   "source": [
    "import requests\n",
    "import json"
   ]
  },
  {
   "cell_type": "code",
   "execution_count": 2,
   "metadata": {
    "collapsed": true
   },
   "outputs": [],
   "source": [
    "#給使用anaconda環境的import module方式\n",
    "import sys\n",
    "new_path = u'D:\\python.data\\hcos\\hcos_airtable' #local module path\n",
    "sys.path.append(new_path)\n",
    "\n",
    "import airtable as at"
   ]
  },
  {
   "cell_type": "code",
   "execution_count": 3,
   "metadata": {},
   "outputs": [
    {
     "data": {
      "text/plain": [
       "OrderedDict([('id', 'rec06Uv00gLHpXCsK'),\n",
       "             ('fields',\n",
       "              OrderedDict([('花萼長度', '7'),\n",
       "                           ('花萼寬度', '3.2'),\n",
       "                           ('花瓣長度', '4.7'),\n",
       "                           ('花瓣寬度', '1.4'),\n",
       "                           ('屬種', 'Iris-versicolor')])),\n",
       "             ('createdTime', '2017-10-07T07:32:40.000Z')])"
      ]
     },
     "execution_count": 3,
     "metadata": {},
     "output_type": "execute_result"
    }
   ],
   "source": [
    "base = at.Airtable('appNcYtL8fFZa1STA', 'keyekU4v5kBu8fvzN') #base id, api_key\n",
    "base.get('iris','rec06Uv00gLHpXCsK') #table name, record id"
   ]
  },
  {
   "cell_type": "code",
   "execution_count": 4,
   "metadata": {},
   "outputs": [
    {
     "data": {
      "text/plain": [
       "'https://api.airtable.com/v0/'"
      ]
     },
     "execution_count": 4,
     "metadata": {},
     "output_type": "execute_result"
    }
   ],
   "source": [
    "base.airtable_url"
   ]
  },
  {
   "cell_type": "code",
   "execution_count": 5,
   "metadata": {},
   "outputs": [
    {
     "data": {
      "text/plain": [
       "'https://api.airtable.com/v0/appNcYtL8fFZa1STA'"
      ]
     },
     "execution_count": 5,
     "metadata": {},
     "output_type": "execute_result"
    }
   ],
   "source": [
    "base.base_url"
   ]
  },
  {
   "cell_type": "code",
   "execution_count": 6,
   "metadata": {
    "collapsed": true
   },
   "outputs": [],
   "source": [
    "payload = {\n",
    "    \"花萼長度\": \"9.9\",\n",
    "    \"花萼寬度\": \"9.9\",\n",
    "    \"花瓣長度\": \"9.9\",\n",
    "    \"花瓣寬度\": \"9.9\",\n",
    "    \"屬種\": \"new type\"\n",
    "  }"
   ]
  },
  {
   "cell_type": "code",
   "execution_count": 7,
   "metadata": {},
   "outputs": [
    {
     "data": {
      "text/plain": [
       "OrderedDict([('id', 'recbkHFMXL7Vlgz0u'),\n",
       "             ('fields',\n",
       "              OrderedDict([('花萼長度', '9.9'),\n",
       "                           ('花萼寬度', '9.9'),\n",
       "                           ('花瓣長度', '9.9'),\n",
       "                           ('花瓣寬度', '9.9'),\n",
       "                           ('屬種', 'new type')])),\n",
       "             ('createdTime', '2017-10-10T14:21:02.138Z')])"
      ]
     },
     "execution_count": 7,
     "metadata": {},
     "output_type": "execute_result"
    }
   ],
   "source": [
    "new_rec = base.create('iris',payload)\n",
    "new_rec"
   ]
  },
  {
   "cell_type": "code",
   "execution_count": 8,
   "metadata": {},
   "outputs": [
    {
     "data": {
      "text/plain": [
       "OrderedDict([('id', 'recbkHFMXL7Vlgz0u'),\n",
       "             ('fields',\n",
       "              OrderedDict([('花萼長度', '10.9'),\n",
       "                           ('花萼寬度', '10.9'),\n",
       "                           ('花瓣長度', '9.9'),\n",
       "                           ('花瓣寬度', '9.9'),\n",
       "                           ('屬種', 'new type')])),\n",
       "             ('createdTime', '2017-10-10T14:21:02.138Z')])"
      ]
     },
     "execution_count": 8,
     "metadata": {},
     "output_type": "execute_result"
    }
   ],
   "source": [
    "update_rec_id = new_rec['id']\n",
    "\n",
    "update_data = {\"花萼長度\": \"10.9\",\n",
    "               \"花萼寬度\": \"10.9\"}\n",
    "base.update('iris', update_rec_id, update_data)"
   ]
  },
  {
   "cell_type": "code",
   "execution_count": 9,
   "metadata": {},
   "outputs": [
    {
     "data": {
      "text/plain": [
       "OrderedDict([('id', 'recbkHFMXL7Vlgz0u'),\n",
       "             ('fields',\n",
       "              OrderedDict([('花萼長度', '11.1'),\n",
       "                           ('花萼寬度', '11.1'),\n",
       "                           ('花瓣長度', '11.1'),\n",
       "                           ('花瓣寬度', '11.1'),\n",
       "                           ('屬種', 'new type')])),\n",
       "             ('createdTime', '2017-10-10T14:21:02.138Z')])"
      ]
     },
     "execution_count": 9,
     "metadata": {},
     "output_type": "execute_result"
    }
   ],
   "source": [
    "update_all_data = {\n",
    "    \"花萼長度\": \"11.1\",\n",
    "    \"花萼寬度\": \"11.1\",\n",
    "    \"花瓣長度\": \"11.1\",\n",
    "    \"花瓣寬度\": \"11.1\",\n",
    "    \"屬種\": \"new type\"\n",
    "  }\n",
    "base.update_all('iris', update_rec_id, update_all_data)"
   ]
  },
  {
   "cell_type": "code",
   "execution_count": 10,
   "metadata": {},
   "outputs": [
    {
     "data": {
      "text/plain": [
       "OrderedDict([('records',\n",
       "              [OrderedDict([('id', 'rec7FyUfaCBL944p7'),\n",
       "                            ('fields',\n",
       "                             OrderedDict([('花萼長度', '11'),\n",
       "                                          ('花萼寬度', '11'),\n",
       "                                          ('花瓣長度', '11'),\n",
       "                                          ('花瓣寬度', '11'),\n",
       "                                          ('屬種', 'new type')])),\n",
       "                            ('createdTime', '2017-10-09T02:01:27.000Z')]),\n",
       "               OrderedDict([('id', 'recJudcyCvGAkisvb'),\n",
       "                            ('fields',\n",
       "                             OrderedDict([('花萼長度', '9.9'),\n",
       "                                          ('花萼寬度', '9.9'),\n",
       "                                          ('花瓣長度', '9.9'),\n",
       "                                          ('花瓣寬度', '9.9'),\n",
       "                                          ('屬種', 'new type')])),\n",
       "                            ('createdTime', '2017-10-10T14:04:53.842Z')]),\n",
       "               OrderedDict([('id', 'recKB7QS3oKG625zZ'),\n",
       "                            ('fields',\n",
       "                             OrderedDict([('花萼長度', '11.1'),\n",
       "                                          ('花萼寬度', '11.1'),\n",
       "                                          ('花瓣長度', '11.1'),\n",
       "                                          ('花瓣寬度', '11.1'),\n",
       "                                          ('屬種', 'new type')])),\n",
       "                            ('createdTime', '2017-10-10T14:07:54.625Z')]),\n",
       "               OrderedDict([('id', 'recTuDUys33tGHrTd'),\n",
       "                            ('fields',\n",
       "                             OrderedDict([('花萼長度', '9.9'),\n",
       "                                          ('花萼寬度', '9.9'),\n",
       "                                          ('花瓣長度', '9.9'),\n",
       "                                          ('花瓣寬度', '9.9'),\n",
       "                                          ('屬種', 'new type')])),\n",
       "                            ('createdTime', '2017-10-09T02:01:11.000Z')]),\n",
       "               OrderedDict([('id', 'recbkHFMXL7Vlgz0u'),\n",
       "                            ('fields',\n",
       "                             OrderedDict([('花萼長度', '11.1'),\n",
       "                                          ('花萼寬度', '11.1'),\n",
       "                                          ('花瓣長度', '11.1'),\n",
       "                                          ('花瓣寬度', '11.1'),\n",
       "                                          ('屬種', 'new type')])),\n",
       "                            ('createdTime', '2017-10-10T14:21:02.138Z')]),\n",
       "               OrderedDict([('id', 'recqZBqCVDNeEifXv'),\n",
       "                            ('fields',\n",
       "                             OrderedDict([('花萼長度', '9.9'),\n",
       "                                          ('花萼寬度', '9.9'),\n",
       "                                          ('花瓣長度', '9.9'),\n",
       "                                          ('花瓣寬度', '9.9'),\n",
       "                                          ('屬種', 'new type')])),\n",
       "                            ('createdTime', '2017-10-09T04:31:19.000Z')]),\n",
       "               OrderedDict([('id', 'recwk7bDWXc4Dazkl'),\n",
       "                            ('fields',\n",
       "                             OrderedDict([('花萼長度', '9.9'),\n",
       "                                          ('花萼寬度', '9.9'),\n",
       "                                          ('花瓣長度', '9.9'),\n",
       "                                          ('花瓣寬度', '9.9'),\n",
       "                                          ('屬種', 'new type')])),\n",
       "                            ('createdTime', '2017-10-09T05:38:33.000Z')])])])"
      ]
     },
     "execution_count": 10,
     "metadata": {},
     "output_type": "execute_result"
    }
   ],
   "source": [
    "base.get(table_name='iris',filter_by_formula='{屬種} = \"new type\"')"
   ]
  },
  {
   "cell_type": "code",
   "execution_count": 11,
   "metadata": {},
   "outputs": [],
   "source": [
    "it_obj = base.iterate('iris',batch_size=2,filter_by_formula='{屬種} = \"new type\"')"
   ]
  },
  {
   "cell_type": "code",
   "execution_count": 12,
   "metadata": {},
   "outputs": [
    {
     "name": "stdout",
     "output_type": "stream",
     "text": [
      "rec7FyUfaCBL944p7\n",
      "recJudcyCvGAkisvb\n",
      "recKB7QS3oKG625zZ\n",
      "recTuDUys33tGHrTd\n",
      "recbkHFMXL7Vlgz0u\n",
      "recqZBqCVDNeEifXv\n",
      "recwk7bDWXc4Dazkl\n"
     ]
    }
   ],
   "source": [
    "for record in it_obj:\n",
    "    print(record['id'])"
   ]
  },
  {
   "cell_type": "code",
   "execution_count": 13,
   "metadata": {},
   "outputs": [
    {
     "data": {
      "text/plain": [
       "OrderedDict([('deleted', True), ('id', 'recbkHFMXL7Vlgz0u')])"
      ]
     },
     "execution_count": 13,
     "metadata": {},
     "output_type": "execute_result"
    }
   ],
   "source": [
    "base.delete('iris', update_rec_id)"
   ]
  },
  {
   "cell_type": "code",
   "execution_count": null,
   "metadata": {},
   "outputs": [],
   "source": []
  }
 ],
 "metadata": {
  "kernelspec": {
   "display_name": "Python 3",
   "language": "python",
   "name": "python3"
  },
  "language_info": {
   "codemirror_mode": {
    "name": "ipython",
    "version": 3
   },
   "file_extension": ".py",
   "mimetype": "text/x-python",
   "name": "python",
   "nbconvert_exporter": "python",
   "pygments_lexer": "ipython3",
   "version": "3.6.2"
  }
 },
 "nbformat": 4,
 "nbformat_minor": 2
}
