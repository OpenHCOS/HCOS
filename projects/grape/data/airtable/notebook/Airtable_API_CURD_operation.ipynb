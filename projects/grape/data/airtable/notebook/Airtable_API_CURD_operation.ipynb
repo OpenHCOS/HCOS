{
 "cells": [
  {
   "cell_type": "code",
   "execution_count": 1,
   "metadata": {
    "collapsed": true
   },
   "outputs": [],
   "source": [
    "import requests\n",
    "import json"
   ]
  },
  {
   "cell_type": "code",
   "execution_count": 2,
   "metadata": {
    "collapsed": true
   },
   "outputs": [],
   "source": [
    "#res = requests.get(\"https://api.airtable.com/v0/appNcYtL8fFZa1STA/iris?api_key=keyshdNC8CZdj1xgo\")\n",
    "\n",
    "Base_ID = 'appNcYtL8fFZa1STA'\n",
    "Table_name = 'iris'\n",
    "\n",
    "# url格式: API URL/v版本/Base_ID/Table_Name\n",
    "url = 'https://api.airtable.com/v0/{0}/{1}'.format(Base_ID, Table_name);\n",
    "\n",
    "API_KEY = {'api_key': 'keyshdNC8CZdj1xgo'}\n",
    "\n",
    "#Authorization格式: Bearer YOUR_API_KEY\n",
    "Aut_cxt_header = {'Authorization': 'Bearer keyshdNC8CZdj1xgo', 'Content-type': 'application/json'}\n",
    "Aut_header = {'Authorization': 'Bearer keyshdNC8CZdj1xgo'}\n",
    "\n",
    "payload = {\n",
    "  \"fields\": {\n",
    "    \"花萼長度\": \"9.9\",\n",
    "    \"花萼寬度\": \"9.9\",\n",
    "    \"花瓣長度\": \"9.9\",\n",
    "    \"花瓣寬度\": \"9.9\",\n",
    "    \"屬種\": \"new type\"\n",
    "  }\n",
    "}\n"
   ]
  },
  {
   "cell_type": "code",
   "execution_count": 3,
   "metadata": {},
   "outputs": [
    {
     "data": {
      "text/plain": [
       "'https://api.airtable.com/v0/appNcYtL8fFZa1STA/iris'"
      ]
     },
     "execution_count": 3,
     "metadata": {},
     "output_type": "execute_result"
    }
   ],
   "source": [
    "url"
   ]
  },
  {
   "cell_type": "markdown",
   "metadata": {},
   "source": [
    "## 新增刪修格式\n",
    "###### GET - 查詢 (Retrieve)\n",
    "\n",
    "```\n",
    "r = requests.get(url, params=API_KEY)\n",
    "\n",
    "#query by record ID:\n",
    "query_by_id_url = url +\"/\"+ \"record_id\"\n",
    "r = requests.get(query_by_id_url, headers=(Aut_cxt_header))\n",
    "```\n",
    "###### POST - 新增 (Create)\n",
    "\n",
    "\n",
    "~~#POST with form-encoded data~~\n",
    "\n",
    "~~(不使用) r = requests.post(url, data=payload, headers=(Aut_cxt_header))~~\n",
    "\n",
    "```\n",
    "# POST with JSON import json\n",
    "r = requests.post(url, data=json.dumps(payload), headers=(Aut_cxt_header))\n",
    "```\n",
    "###### PATCH - 修改 (Update)部份欄位:some (but not all) fields\n",
    "\n",
    "```\n",
    "query_by_id_url = url +\"/\"+ \"record_id\"\n",
    "r = requests.patch(query_by_id_url, data=json.dumps(payload), headers=(Aut_cxt_header))\n",
    "```\n",
    "###### PUT - 修改 (Update)全部欄位:all fields\n",
    "\n",
    "```\n",
    "query_by_id_url = url +\"/\"+ \"record_id\"\n",
    "r = requests.put(query_by_id_url, data=json.dumps(payload), headers=(Aut_cxt_header))\n",
    "```\n",
    "###### DELETE - 刪除 (Delete)\n",
    "\n",
    "```\n",
    "query_by_id_url = url +\"/\"+ \"delete target record id\"\n",
    "r = requests.delete(query_by_id_url, headers=(Aut_header))\n",
    "```"
   ]
  },
  {
   "cell_type": "markdown",
   "metadata": {},
   "source": [
    "###### 查詢語法\n",
    "```\n",
    "requests.post?\n",
    "\n",
    "Signature: requests.post(url, data=None, json=None, **kwargs)\n",
    "Docstring:\n",
    "Sends a POST request.\n",
    "\n",
    ":param url: URL for the new :class:`Request` object.\n",
    ":param data: (optional) Dictionary (will be form-encoded), bytes, or file-like object to send in the body of the :class:`Request`.\n",
    ":param json: (optional) json data to send in the body of the :class:`Request`.\n",
    ":param \\*\\*kwargs: Optional arguments that ``request`` takes.\n",
    ":return: :class:`Response <Response>` object\n",
    ":rtype: requests.Response\n",
    "File:      c:\\anaconda3\\lib\\site-packages\\requests\\api.py\n",
    "Type:      function\n",
    "```"
   ]
  },
  {
   "cell_type": "markdown",
   "metadata": {},
   "source": [
    "### Http Status Code: (API Error code)\n",
    "https://airtable.com/appNcYtL8fFZa1STA/api/docs#curl/errors:servererrorcodes"
   ]
  },
  {
   "cell_type": "markdown",
   "metadata": {},
   "source": [
    "###### 帶查詢條件: maxrecord, pagesize, and api_key\n",
    "https://api.airtable.com/v0/appNcYtL8fFZa1STA/iris?maxRecords=100&pageSize=2&api_key=keyshdNC8CZdj1xgo\n",
    "\n",
    "**Pagination** (關於分頁設定,pageSize預設100筆)\n",
    "\n",
    "*The server returns one page of records at a time. Each page will contain pageSize records, which is 100 by default.*\n",
    "\n",
    "**offset** (分頁的下一頁面第一筆記錄的ID)\n",
    "\n",
    "*If there are more records, the response will contain an offset. To fetch the next page of records, include offset in the next request's parameters.*"
   ]
  },
  {
   "cell_type": "code",
   "execution_count": 4,
   "metadata": {},
   "outputs": [
    {
     "data": {
      "text/plain": [
       "200"
      ]
     },
     "execution_count": 4,
     "metadata": {},
     "output_type": "execute_result"
    }
   ],
   "source": [
    "query_string = {'api_key':'keyshdNC8CZdj1xgo', 'maxRecords':'100', 'pageSize':'2',\n",
    "                'filterByFormula':'{屬種} = \"new type\"'} #pageSize:一個頁面顯示(取回)幾筆資料\n",
    "r = requests.get(url, params=query_string)\n",
    "r.status_code"
   ]
  },
  {
   "cell_type": "code",
   "execution_count": 5,
   "metadata": {},
   "outputs": [
    {
     "data": {
      "text/plain": [
       "'{\"records\":[{\"id\":\"rec7FyUfaCBL944p7\",\"fields\":{\"花萼長度\":\"11\",\"花萼寬度\":\"11\",\"花瓣長度\":\"11\",\"花瓣寬度\":\"11\",\"屬種\":\"new type\"},\"createdTime\":\"2017-10-09T02:01:27.000Z\"},{\"id\":\"recTuDUys33tGHrTd\",\"fields\":{\"花萼長度\":\"9.9\",\"花萼寬度\":\"9.9\",\"花瓣長度\":\"9.9\",\"花瓣寬度\":\"9.9\",\"屬種\":\"new type\"},\"createdTime\":\"2017-10-09T02:01:11.000Z\"}],\"offset\":\"itr3XW496ndJKbMd5/recTuDUys33tGHrTd\"}'"
      ]
     },
     "execution_count": 5,
     "metadata": {},
     "output_type": "execute_result"
    }
   ],
   "source": [
    "r.text"
   ]
  },
  {
   "cell_type": "markdown",
   "metadata": {},
   "source": [
    "###### 查詢單筆資料"
   ]
  },
  {
   "cell_type": "code",
   "execution_count": 6,
   "metadata": {},
   "outputs": [
    {
     "data": {
      "text/plain": [
       "200"
      ]
     },
     "execution_count": 6,
     "metadata": {},
     "output_type": "execute_result"
    }
   ],
   "source": [
    "#查詢單筆資料\n",
    "query_by_id_url = url +\"/\"+ \"rec06Uv00gLHpXCsK\" #url+record_id\n",
    "r = requests.get(query_by_id_url, headers=(Aut_cxt_header)) #also,it's work that Authorization send by query string.\n",
    "r.status_code"
   ]
  },
  {
   "cell_type": "code",
   "execution_count": 7,
   "metadata": {},
   "outputs": [
    {
     "data": {
      "text/plain": [
       "'https://api.airtable.com/v0/appNcYtL8fFZa1STA/iris/rec06Uv00gLHpXCsK'"
      ]
     },
     "execution_count": 7,
     "metadata": {},
     "output_type": "execute_result"
    }
   ],
   "source": [
    "query_by_id_url"
   ]
  },
  {
   "cell_type": "code",
   "execution_count": 8,
   "metadata": {
    "scrolled": true
   },
   "outputs": [
    {
     "data": {
      "text/plain": [
       "'{\"id\":\"rec06Uv00gLHpXCsK\",\"fields\":{\"花萼長度\":\"7\",\"花萼寬度\":\"3.2\",\"花瓣長度\":\"4.7\",\"花瓣寬度\":\"1.4\",\"屬種\":\"Iris-versicolor\"},\"createdTime\":\"2017-10-07T07:32:40.000Z\"}'"
      ]
     },
     "execution_count": 8,
     "metadata": {},
     "output_type": "execute_result"
    }
   ],
   "source": [
    "r.text"
   ]
  },
  {
   "cell_type": "markdown",
   "metadata": {},
   "source": [
    "### 新增資料"
   ]
  },
  {
   "cell_type": "code",
   "execution_count": 9,
   "metadata": {},
   "outputs": [
    {
     "data": {
      "text/plain": [
       "200"
      ]
     },
     "execution_count": 9,
     "metadata": {},
     "output_type": "execute_result"
    }
   ],
   "source": [
    "r = requests.post(url, data=json.dumps(payload), headers=(Aut_cxt_header))\n",
    "r.status_code"
   ]
  },
  {
   "cell_type": "code",
   "execution_count": 10,
   "metadata": {},
   "outputs": [
    {
     "data": {
      "text/plain": [
       "'{\"id\":\"recXX06GaZcWsjdxk\",\"fields\":{\"花萼長度\":\"9.9\",\"花萼寬度\":\"9.9\",\"花瓣長度\":\"9.9\",\"花瓣寬度\":\"9.9\",\"屬種\":\"new type\"},\"createdTime\":\"2017-10-09T05:52:36.546Z\"}'"
      ]
     },
     "execution_count": 10,
     "metadata": {},
     "output_type": "execute_result"
    }
   ],
   "source": [
    "r.text #剛才新增的記錄資料,會被 Return."
   ]
  },
  {
   "cell_type": "markdown",
   "metadata": {},
   "source": [
    "### 刪除資料"
   ]
  },
  {
   "cell_type": "code",
   "execution_count": 11,
   "metadata": {},
   "outputs": [
    {
     "data": {
      "text/plain": [
       "200"
      ]
     },
     "execution_count": 11,
     "metadata": {},
     "output_type": "execute_result"
    }
   ],
   "source": [
    "query_by_id_url = url +\"/\"+ \"recXX06GaZcWsjdxk\" #url+record_id\n",
    "r = requests.delete(query_by_id_url, headers=(Aut_header))\n",
    "r.status_code"
   ]
  },
  {
   "cell_type": "code",
   "execution_count": 12,
   "metadata": {},
   "outputs": [
    {
     "data": {
      "text/plain": [
       "'https://api.airtable.com/v0/appNcYtL8fFZa1STA/iris/recXX06GaZcWsjdxk'"
      ]
     },
     "execution_count": 12,
     "metadata": {},
     "output_type": "execute_result"
    }
   ],
   "source": [
    "query_by_id_url"
   ]
  },
  {
   "cell_type": "markdown",
   "metadata": {},
   "source": [
    "### 修改資料"
   ]
  },
  {
   "cell_type": "code",
   "execution_count": 13,
   "metadata": {},
   "outputs": [
    {
     "data": {
      "text/plain": [
       "200"
      ]
     },
     "execution_count": 13,
     "metadata": {},
     "output_type": "execute_result"
    }
   ],
   "source": [
    "query_by_id_url = url +\"/\"+ \"rec7FyUfaCBL944p7\"\n",
    "payload = {\n",
    "  \"fields\": {\n",
    "    \"花萼長度\": \"11\",\n",
    "    \"花萼寬度\": \"11\",\n",
    "    \"花瓣長度\": \"11\",\n",
    "    \"花瓣寬度\": \"11\",\n",
    "    \"屬種\": \"new type\"\n",
    "  }\n",
    "}\n",
    "r = requests.put(query_by_id_url, data=json.dumps(payload), headers=(Aut_cxt_header))\n",
    "r.status_code"
   ]
  },
  {
   "cell_type": "code",
   "execution_count": 14,
   "metadata": {},
   "outputs": [
    {
     "data": {
      "text/plain": [
       "'{\"id\":\"rec7FyUfaCBL944p7\",\"fields\":{\"花萼長度\":\"11\",\"花萼寬度\":\"11\",\"花瓣長度\":\"11\",\"花瓣寬度\":\"11\",\"屬種\":\"new type\"},\"createdTime\":\"2017-10-09T02:01:27.000Z\"}'"
      ]
     },
     "execution_count": 14,
     "metadata": {},
     "output_type": "execute_result"
    }
   ],
   "source": [
    "r.text"
   ]
  },
  {
   "cell_type": "code",
   "execution_count": null,
   "metadata": {
    "collapsed": true
   },
   "outputs": [],
   "source": []
  }
 ],
 "metadata": {
  "kernelspec": {
   "display_name": "Python 3",
   "language": "python",
   "name": "python3"
  },
  "language_info": {
   "codemirror_mode": {
    "name": "ipython",
    "version": 3
   },
   "file_extension": ".py",
   "mimetype": "text/x-python",
   "name": "python",
   "nbconvert_exporter": "python",
   "pygments_lexer": "ipython3",
   "version": "3.6.2"
  }
 },
 "nbformat": 4,
 "nbformat_minor": 2
}
